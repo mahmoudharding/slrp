{
 "cells": [
  {
   "cell_type": "markdown",
   "id": "0a15a473-c493-4d66-a4ca-127ae54d5377",
   "metadata": {},
   "source": [
    "## Simple Linear Regression\n",
    "\n",
    "Does college pay off? We'll use some of the latest data from the US Department of Education's <a href=\"https://collegescorecard.ed.gov/data/\">College Scorecard Database</a> to answer that question. \n",
    "\n",
    "In this notebook, you'll use R to create scatterplots, fit simple linear regression models, and compare the strength of your models. By the end of this notebook, you'll see what factors make certain colleges better investments than others."
   ]
  },
  {
   "cell_type": "code",
   "execution_count": 1,
   "id": "d9c5dc11-c7fd-46f1-be6f-fd8acfb3366b",
   "metadata": {},
   "outputs": [],
   "source": [
    "## Run this code but do not edit it. Hit Ctrl+Enter to run the code.\n",
    "# This command downloads a useful package of R commands\n",
    "suppressPackageStartupMessages({\n",
    "    library(dplyr)\n",
    "    library(ggplot2)\n",
    "    library(ggformula)\n",
    "})"
   ]
  },
  {
   "cell_type": "markdown",
   "id": "bc880c38-6956-42c5-b3d3-7a2a196ac169",
   "metadata": {},
   "source": [
    "### The Dataset (`four_year_colleges.csv`)\n",
    "\n",
    "In this notebook, we'll be using the `four_year_colleges.csv` file, which only includes schools that offer four-year bachelors degrees and/or higher graduate degrees. Institutions that offer only associates degrees or profession certificates, such as community colleges and trade schools, have been excluded. Community colleges and trade schools often have different goals (e.g. facilitating transfers, direct career education) than institutions that offer four-year bachelors degrees. By comparing four-year colleges only to other four-year colleges, we'll have clearer analyses and conclusions.\n",
    "\n",
    "This dataset is a subset of the US Department of Education's <a href=\"https://collegescorecard.ed.gov/data/\">College Scorecard Database</a>, which shows various metrics of cost, enrollment, size, student debt, student demographics, and alumni success. The database describes almost every University, college, community college, trade school, and certificate program in the United States. The data is current as of the 2020-2021 school year.\n",
    "\n",
    "#### Variables\n",
    "- `OPEID` - Official ID number for college/institution\n",
    "- `name` - Name of college/institution\n",
    "- `city` - City in which college/institution is located\n",
    "- `state` - State in which college/institution is located\n",
    "- `region` - US geographic region in which the college/institution is located\n",
    "- `median_debt` - The median student loan amount, upon entering repayment, in thousands of dollars\n",
    "- `default_rate` - Percent of school's borrowers in default on student loans (from recent cohorts). Includes students who graduate, transfer, or dropout.\n",
    "- `highest_degree`: Highest degree awarded at institution (values: `Certificate`, `Associates`,`Bachelors`,`Graduate`)\n",
    "- `ownership`: Control of institution (values: `Public`,`Private nonprofit`,`Private for-profit`)\n",
    "- `locale`: Locale surrounding institution (values: `Large City`,`Small City`,`Suburb`,`Town`,`Rural`)\n",
    "- `hbcu`: Indicator for historically black college and university (values: `No`,`Yes`)\n",
    "- `admit_rate`: Percent of applicants offered admission\n",
    "- `SAT_avg`: Average equivalent SAT score of admitted students\n",
    "- `online_only`: Indicator for whether college only provides distance (online) classes (values: `No`,`Yes`)\n",
    "- `enrollment`: Number of undergraduate or certificate-seeking students enrolled\n",
    "- `net_price`: Average cost of attendance (includes tuition, books, & living expenses) minus average financial aid, in thousands of dollars\n",
    "- `avg_cost`: Average cost of attendance (includes tuition, books, & living expenses), in thousands of dollars\n",
    "- `net_tuition`: Net tuition revenue (tuition minus average discounts and allowances) per student, in thousands of dollars\n",
    "- `ed_spending_per_student`: Instructional expenditures per student, in thousands of dollars\n",
    "- `avg_faculty_salary`: Average faculty salary, in thousands of dollars\n",
    "- `pct_PELL`: Percent of undegraduates who received a [PELL grant](https://www.benefits.gov/benefit/417)\n",
    "- `pct_fed_loan`: Percent of undergraduates who received a federal student loan\n",
    "- `grad_rate`: Graduation rate, given 150% of normal time (e.g. graduate within 6 years for a 4-year degree)\n",
    "- `pct_firstgen`: Share of students that are first generation in their family to attend college\n",
    "- `med_fam_income`: Median income of students' families, in thousands of dollars\n",
    "- `med_alum_earnings`: Median earnings of students working and no longer enrolled 10 years after entry, in thousands of dollars\n",
    "\n",
    "Detailed description and technical notes can be found <a href=\"https://docs.google.com/spreadsheets/d/1fa_Bd3_eYEmxvKPcu3hK2Dgazdk-9bkeJwONMS6u43Q/edit?usp=sharing\">here</a>"
   ]
  },
  {
   "cell_type": "markdown",
   "id": "5411f050-f6fb-4db2-a7a3-f3f07074836c",
   "metadata": {},
   "source": [
    "### 1.0 - Creating scatterplots\n",
    "\n",
    "To begin, let's download our data. Our full dataset is included in a file named `colleges.csv`, which we're retrieving from a github repository. The command below downloads the data from the file and stores it into an R dataframe object called `dat`."
   ]
  },
  {
   "cell_type": "code",
   "execution_count": 1,
   "id": "334fc2a1-79d1-439f-8c50-c99ab27203f8",
   "metadata": {},
   "outputs": [],
   "source": [
    "dat <- read.csv('https://raw.githubusercontent.com/mahmoudharding/slrp/main/data/four_year_colleges.csv')"
   ]
  },
  {
   "cell_type": "code",
   "execution_count": null,
   "id": "5c80e2d3-a230-4630-a662-a0f4c8cc83ce",
   "metadata": {},
   "outputs": [],
   "source": []
  },
  {
   "cell_type": "markdown",
   "id": "b81a7f93-983a-4182-a4db-d7e3a14fb948",
   "metadata": {},
   "source": [
    "### 2.0 - Simple linear regression (one predictor) \n",
    "\n",
    "**Question 2.1** Watch <a href=\"https://youtu.be/hvWgu4A0VA4\">this video</a>, which provides an introduction to simple linear regression. \n",
    "\n",
    "**Note:** This video is adapted from other materials and covers data from a separate context. However, the video provides a good intro to the concepts and models we'll be using in this section of the project."
   ]
  },
  {
   "cell_type": "code",
   "execution_count": null,
   "id": "3d84796b-56b8-42a6-bd34-cc92201cbd21",
   "metadata": {},
   "outputs": [],
   "source": []
  },
  {
   "cell_type": "markdown",
   "id": "e99c0ac8-8e01-4c08-8c57-82a611eca380",
   "metadata": {},
   "source": [
    "### 3.0 - Analyzing strength $\\left(R^2\\right)$\n",
    "\n",
    "In addition to the direction of a relationship (positive or negative), we can also look at the **strength** of a relationship. The strength is a measure of the **quality of our model's predictions.** A key metric for analyzing the strength of a model is $R^2$. The following diagram (from <a href = \"https://skewthescript.org/3-3-a\">Skew The Script</a>) shows the $R^2$ values of various linear models:\n",
    "\n",
    "<img src=\"https://skewthescript.org/s/r_squared.PNG\">"
   ]
  },
  {
   "cell_type": "code",
   "execution_count": null,
   "id": "bd522d7b-488c-4bed-8db0-2ab0dffbf02e",
   "metadata": {},
   "outputs": [],
   "source": []
  }
 ],
 "metadata": {
  "kernelspec": {
   "display_name": "R",
   "language": "R",
   "name": "ir"
  },
  "language_info": {
   "codemirror_mode": "r",
   "file_extension": ".r",
   "mimetype": "text/x-r-source",
   "name": "R",
   "pygments_lexer": "r",
   "version": "4.2.3"
  }
 },
 "nbformat": 4,
 "nbformat_minor": 5
}
