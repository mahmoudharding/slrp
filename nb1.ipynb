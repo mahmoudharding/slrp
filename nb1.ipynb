{
 "cells": [
  {
   "cell_type": "markdown",
   "id": "0a15a473-c493-4d66-a4ca-127ae54d5377",
   "metadata": {},
   "source": [
    "## Basic R Commands & Data Exploration\n",
    "\n",
    "Does college pay off? We'll use some of the latest data from the US Department of Education's <a href=\"https://collegescorecard.ed.gov/data/\">College Scorecard Database</a> to answer that question. \n",
    "\n",
    "In this notebook, you'll get a gentle introduction to R - a coding language used by data scientists to analyze large datasets. Then, you'll begin diving into the college scorecard data yourself. By the end of this notebook, you'll get a general sense of which colleges set up their graduates for success and which colleges ... don't."
   ]
  },
  {
   "cell_type": "code",
   "execution_count": 1,
   "id": "d9c5dc11-c7fd-46f1-be6f-fd8acfb3366b",
   "metadata": {},
   "outputs": [],
   "source": [
    "## Run this code but do not edit it. Hit Ctrl+Enter to run the code.\n",
    "# This command downloads a useful package of R commands\n",
    "suppressPackageStartupMessages({\n",
    "    library(dplyr)\n",
    "    library(ggplot2)\n",
    "    library(ggformula)\n",
    "})"
   ]
  },
  {
   "cell_type": "markdown",
   "id": "5411f050-f6fb-4db2-a7a3-f3f07074836c",
   "metadata": {},
   "source": [
    "### 1.0 - Exploring the dataset\n",
    "\n",
    "To begin, let's download our data. Our full dataset is included in a file named `colleges.csv`, which we're retrieving from a github repository. The command below downloads the data from the file and stores it into an R dataframe object called `dat`."
   ]
  },
  {
   "cell_type": "code",
   "execution_count": 2,
   "id": "334fc2a1-79d1-439f-8c50-c99ab27203f8",
   "metadata": {},
   "outputs": [],
   "source": [
    "dat <- read.csv('https://raw.githubusercontent.com/mahmoudharding/slrp/main/data/colleges.csv')"
   ]
  },
  {
   "cell_type": "code",
   "execution_count": null,
   "id": "5c80e2d3-a230-4630-a662-a0f4c8cc83ce",
   "metadata": {},
   "outputs": [],
   "source": []
  },
  {
   "cell_type": "markdown",
   "id": "b81a7f93-983a-4182-a4db-d7e3a14fb948",
   "metadata": {},
   "source": [
    "### 2.0 - Finding summary statistics \n",
    "\n",
    "When analyzing variables of interest, it's often helpful to calculate summary statistics. For quantitative variables, we can use the `summary` command to find the five-number summary (minimum, Q1, median, Q3, maximum) and the average (mean) of the values. The code block shows how we find these summary statistics for the `admit_rate` variable. Note: the `$` sign in R is used to isolate a single variable (`admit_rate`) from a dataframe (`dat`)."
   ]
  },
  {
   "cell_type": "code",
   "execution_count": null,
   "id": "3d84796b-56b8-42a6-bd34-cc92201cbd21",
   "metadata": {},
   "outputs": [],
   "source": []
  },
  {
   "cell_type": "markdown",
   "id": "e99c0ac8-8e01-4c08-8c57-82a611eca380",
   "metadata": {},
   "source": [
    "### 3.0 - Visualizing data (histograms, barplots, and boxplots)\n",
    "\n",
    "In addition to summary statistics, a great way to get an overall impression of our data is to visualize it. In this section, we'll walk through different types of visualizations we can create in R. Note: We're going to save scatterplots for the next notebook in this series.\n",
    "\n",
    "One of the most useful visualizations for displaying a quantitative variable is a histogram. Here, we use the `gf_histogram` command to display the histogram for `admit_rate`."
   ]
  },
  {
   "cell_type": "code",
   "execution_count": null,
   "id": "bd522d7b-488c-4bed-8db0-2ab0dffbf02e",
   "metadata": {},
   "outputs": [],
   "source": []
  }
 ],
 "metadata": {
  "kernelspec": {
   "display_name": "R",
   "language": "R",
   "name": "ir"
  },
  "language_info": {
   "codemirror_mode": "r",
   "file_extension": ".r",
   "mimetype": "text/x-r-source",
   "name": "R",
   "pygments_lexer": "r",
   "version": "4.2.3"
  }
 },
 "nbformat": 4,
 "nbformat_minor": 5
}
